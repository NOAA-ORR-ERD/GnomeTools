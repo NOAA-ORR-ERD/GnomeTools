{
 "metadata": {
  "name": "",
  "signature": "sha256:41503c5c8fe72c246c1e96798f40674b7fcd606953f47c68f94829e7dc994cbb"
 },
 "nbformat": 3,
 "nbformat_minor": 0,
 "worksheets": [
  {
   "cells": [
    {
     "cell_type": "code",
     "collapsed": false,
     "input": [
      " %matplotlib \n",
      "\n",
      "# %matplotlib inline"
     ],
     "language": "python",
     "metadata": {},
     "outputs": [
      {
       "output_type": "stream",
       "stream": "stdout",
       "text": [
        "Using matplotlib backend: Qt4Agg\n"
       ]
      }
     ],
     "prompt_number": 2
    },
    {
     "cell_type": "code",
     "collapsed": false,
     "input": [
      "from __future__ import division\n",
      "import numpy as np\n",
      "from scipy.stats import norm\n",
      "from scipy import spatial\n",
      "import netCDF4\n",
      "import plumegridKDE\n",
      "\n",
      "\n",
      "import matplotlib\n",
      "import matplotlib.pyplot as plt\n",
      "from matplotlib.patches import Circle, Wedge, Polygon, Ellipse\n",
      "from matplotlib.collections import PatchCollection"
     ],
     "language": "python",
     "metadata": {},
     "outputs": [],
     "prompt_number": 1
    },
    {
     "cell_type": "code",
     "collapsed": false,
     "input": [
      "p_out"
     ],
     "language": "python",
     "metadata": {},
     "outputs": []
    },
    {
     "cell_type": "markdown",
     "metadata": {},
     "source": [
      "--- Test data ---"
     ]
    },
    {
     "cell_type": "code",
     "collapsed": false,
     "input": [
      "## import and use LEs generated in GNOME\n",
      "file = 'C:\\\\Users\\\\dylan.righi\\\\Science\\\\GnomeTools\\\\plumeKDE\\\\DATA\\\\JDF.nc'\n",
      "ff = netCDF4.Dataset(file)\n",
      "\n",
      "ptime = ff.variables['time'][:]\n",
      "plon = ff.variables['longitude'][:]\n",
      "plat = ff.variables['latitude'][:]\n",
      "\n",
      "# trim these trajectories for testing\n",
      "plon = plon[443:]\n",
      "plat = plat[443:]\n",
      "ptime = ptime[443:]\n",
      "\n",
      "# quick-n-dirty lat/lon to meters transform (at 40N)\n",
      "pyy = (plat - plat.mean())*111.*1000.\n",
      "pxx = (plon - plon.mean())*85.*1000.\n",
      "\n",
      "#plt.plot(pxx,pyy,'.');\n",
      "\n",
      "# mock up data for plumeKDE call\n",
      "p_posit = np.vstack((pxx,pyy)).T\n",
      "p_mass = np.ones(len(plon))\n",
      "p_density = np.ones(len(plon))"
     ],
     "language": "python",
     "metadata": {},
     "outputs": [],
     "prompt_number": 3
    },
    {
     "cell_type": "markdown",
     "metadata": {},
     "source": [
      "    --- output grid ---"
     ]
    },
    {
     "cell_type": "code",
     "collapsed": false,
     "input": [
      "## ouput grid\n",
      "xstd = pxx.std()\n",
      "ystd = pyy.std()\n",
      "\n",
      "nxg,nyg = (100, 100)\n",
      "xxx = np.linspace(np.floor(min(pxx))-xstd,np.ceil(max(pxx))+xstd,nxg)\n",
      "yyy = np.linspace(np.floor(min(pyy))-ystd,np.ceil(max(pyy))+ystd,nxg)\n",
      "xg,yg = np.meshgrid(xxx,yyy)\n",
      "g_posit = np.vstack((xg.ravel(), yg.ravel())).T"
     ],
     "language": "python",
     "metadata": {},
     "outputs": [],
     "prompt_number": 10
    },
    {
     "cell_type": "code",
     "collapsed": false,
     "input": [
      "plt.clf()\n",
      "#plt.plot(p_posit[:,0],p_posit[:,1],'r.');\n",
      "#plt.plot(pxx,pyy,'g.')\n",
      "#plt.plot(xg,yg,'r.')\n",
      "plt.plot(pxx,pyy,'g.')"
     ],
     "language": "python",
     "metadata": {},
     "outputs": [
      {
       "metadata": {},
       "output_type": "pyout",
       "prompt_number": 11,
       "text": [
        "[<matplotlib.lines.Line2D at 0xf5f16a0>]"
       ]
      }
     ],
     "prompt_number": 11
    },
    {
     "cell_type": "markdown",
     "metadata": {},
     "source": [
      "--- plumegrid calls ---"
     ]
    },
    {
     "cell_type": "code",
     "collapsed": false,
     "input": [
      "##  normal kernel version\n",
      "\n",
      "p_out = p_posit\n",
      "\n",
      "reload(plumegridKDE)\n",
      "#%timeit \n",
      "data_p,p_meandist = plumegridKDE.plumeKDE(p_posit,p_mass,p_out,n_neighbors=10)"
     ],
     "language": "python",
     "metadata": {},
     "outputs": [
      {
       "output_type": "stream",
       "stream": "stdout",
       "text": [
        "1848.82074217\n"
       ]
      }
     ],
     "prompt_number": 48
    },
    {
     "cell_type": "code",
     "collapsed": false,
     "input": [
      "##  tophat kernel version\n",
      "\n",
      "p_out = g_posit\n",
      "\n",
      "reload(plumegridKDE)\n",
      "#%timeit \n",
      "data_p,p_meandist,out_count = plumegridKDE.plumeKDE_tophat(p_posit,p_mass,p_out,n_neighbors=20)"
     ],
     "language": "python",
     "metadata": {},
     "outputs": [],
     "prompt_number": 55
    },
    {
     "cell_type": "code",
     "collapsed": false,
     "input": [
      "p_posit.shape"
     ],
     "language": "python",
     "metadata": {},
     "outputs": [
      {
       "metadata": {},
       "output_type": "pyout",
       "prompt_number": 48,
       "text": [
        "(557L, 2L)"
       ]
      }
     ],
     "prompt_number": 48
    },
    {
     "cell_type": "code",
     "collapsed": false,
     "input": [
      "# patches plot\n",
      "\n",
      "patches_p = []\n",
      "for x1,y1,r in zip(g_posit[:,0],g_posit[:,1],data_p*50000000.):\n",
      "    circle = Circle((x1,y1), r)\n",
      "    patches_p.append(circle)\n",
      "    \n",
      "fig, ax1 = plt.subplots()\n",
      "colors = data_p\n",
      "p = PatchCollection(patches_p, cmap=matplotlib.cm.jet, alpha=0.4)\n",
      "p.set_array(np.array(colors))\n",
      "ax1.add_collection(p)\n",
      "ax1.set_xlim([p_out[:,0].min(), p_out[:,0].max()])\n",
      "ax1.set_ylim([p_out[:,1].min(), p_out[:,1].max()])\n",
      "ax1.set_aspect('equal')\n",
      "\n",
      "plt.title('N = 10, tophat')\n",
      "plt.show()"
     ],
     "language": "python",
     "metadata": {},
     "outputs": [],
     "prompt_number": 46
    },
    {
     "cell_type": "code",
     "collapsed": false,
     "input": [
      "# patches plot of p_meandist at LE locations\n",
      "\n",
      "patches_p = []\n",
      "for x1,y1,r in zip(p_posit[:,0],p_posit[:,1],p_meandist*1.):\n",
      "    circle = Circle((x1,y1), r)\n",
      "    patches_p.append(circle)\n",
      "    \n",
      "fig, ax1 = plt.subplots()\n",
      "colors = p_meandist\n",
      "p = PatchCollection(patches_p, cmap=matplotlib.cm.jet, alpha=0.4)\n",
      "p.set_array(np.array(colors))\n",
      "ax1.add_collection(p)\n",
      "ax1.set_xlim([p_out[:,0].min(), p_out[:,0].max()])\n",
      "ax1.set_ylim([p_out[:,1].min(), p_out[:,1].max()])\n",
      "ax1.set_aspect('equal')\n",
      "\n",
      "plt.title('N = 20, p_meandist')\n",
      "plt.show()"
     ],
     "language": "python",
     "metadata": {},
     "outputs": [],
     "prompt_number": 56
    },
    {
     "cell_type": "code",
     "collapsed": false,
     "input": [
      "\n",
      "temp = np.reshape(data_p,((100, 100)))\n",
      "\n",
      "fig, ax1 = plt.subplots()\n",
      "plt.contour(xg,yg,temp)\n",
      "plt.colorbar()"
     ],
     "language": "python",
     "metadata": {},
     "outputs": [
      {
       "metadata": {},
       "output_type": "pyout",
       "prompt_number": 52,
       "text": [
        "<matplotlib.colorbar.Colorbar instance at 0x00000000241ED8C8>"
       ]
      }
     ],
     "prompt_number": 52
    },
    {
     "cell_type": "code",
     "collapsed": false,
     "input": [
      "fig, ax1 = plt.subplots()\n",
      "plt.plot(out_count)"
     ],
     "language": "python",
     "metadata": {},
     "outputs": [
      {
       "metadata": {},
       "output_type": "pyout",
       "prompt_number": 39,
       "text": [
        "[<matplotlib.lines.Line2D at 0x17f1ddd8>]"
       ]
      }
     ],
     "prompt_number": 39
    },
    {
     "cell_type": "code",
     "collapsed": false,
     "input": [
      "temp = np.reshape(data_p,((100, 100)))\n",
      "#lvls = np.logspace(0,-5,20)\n",
      "\n",
      "q = np.linspace(0,1,22)\n",
      "#lvls = ((-(1.-q[1:-1])**3+1))*data_p.max()\n",
      "lvls = ((1-q[:-1])**-1.2) - 1\n",
      "lvls = lvls/lvls.max()*data_p.max()\n",
      "\n",
      "bnorm = matplotlib.colors.BoundaryNorm(lvls, ncolors=len(lvls)-1)\n",
      "fig=plt.figure()\n",
      "ax1 = fig.add_subplot(111)\n",
      "#pn = matplotlib.colors.PowerNorm(-2.)\n",
      "CF = ax1.contour(xg,yg,temp,levels=lvls,norm=bnorm)\n",
      "cbar = plt.colorbar(CF)\n"
     ],
     "language": "python",
     "metadata": {},
     "outputs": [],
     "prompt_number": 57
    },
    {
     "cell_type": "code",
     "collapsed": false,
     "input": [
      "temp = np.reshape(data_p,((100, 100)))\n",
      "lvls = np.linspace(0.00000,0.00006,num=20)\n",
      " \n",
      "\n",
      "fig=plt.figure()\n",
      "ax1 = fig.add_subplot(111)\n",
      "\n",
      "CF = ax1.contour(xg,yg,temp,levels = lvls)\n",
      "cbar = plt.colorbar(CF, ticks=lvls)"
     ],
     "language": "python",
     "metadata": {},
     "outputs": [],
     "prompt_number": 140
    },
    {
     "cell_type": "code",
     "collapsed": false,
     "input": [
      "fig, ax1 = plt.subplots()\n",
      "plt.plot(np.sort(data_p),'.')"
     ],
     "language": "python",
     "metadata": {},
     "outputs": [
      {
       "metadata": {},
       "output_type": "pyout",
       "prompt_number": 138,
       "text": [
        "[<matplotlib.lines.Line2D at 0x25f5a8d0>]"
       ]
      }
     ],
     "prompt_number": 138
    },
    {
     "cell_type": "code",
     "collapsed": false,
     "input": [
      "fig=plt.figure()\n",
      "ax1 = fig.add_subplot(111)\n",
      "\n",
      "pc = plt.pcolor(xg,yg,temp)\n",
      "cbar = plt.colorbar(pc)"
     ],
     "language": "python",
     "metadata": {},
     "outputs": [],
     "prompt_number": 127
    },
    {
     "cell_type": "code",
     "collapsed": false,
     "input": [
      "fig=plt.figure()\n",
      "ax1 = fig.add_subplot(111)\n",
      "plt.clf()\n",
      "plt.plot(lvls,'.')\n",
      "lvls"
     ],
     "language": "python",
     "metadata": {},
     "outputs": [
      {
       "metadata": {},
       "output_type": "pyout",
       "prompt_number": 129,
       "text": [
        "array([  0.00000000e+00,   8.31909549e-08,   1.76064146e-07,\n",
        "         2.80350127e-07,   3.98209417e-07,   5.32373060e-07,\n",
        "         6.86341663e-07,   8.64673157e-07,   1.07340878e-06,\n",
        "         1.32072086e-06,   1.61792874e-06,   1.98115040e-06,\n",
        "         2.43410323e-06,   3.01309989e-06,   3.77652504e-06,\n",
        "         4.82424752e-06,   6.34151617e-06,   8.71231353e-06,\n",
        "         1.28732381e-05,   2.18056682e-05,   5.18862982e-05])"
       ]
      }
     ],
     "prompt_number": 129
    },
    {
     "cell_type": "code",
     "collapsed": false,
     "input": [
      "def eigsorted(cov):\n",
      "    vals, vecs = np.linalg.eigh(cov)\n",
      "    order = vals.argsort()[::-1]\n",
      "    return vals[order], vecs[:,order]\n",
      "\n",
      "nstd = 2\n",
      "n_neighbors = 10\n",
      "p_xy = p_posit\n",
      "\n",
      "# call to KDtree\n",
      "tree = spatial.KDTree(p_xy)\n",
      "# find N nearest neighbors to each particle\n",
      "tr_dist, tr_indx = tree.query(p_xy, n_neighbors)\n",
      "    \n",
      "# mean positions of nearest neighbors (using results from tree call)\n",
      "xm = (np.mean(p_xy[tr_indx,0],axis=1))\n",
      "ym = (np.mean(p_xy[tr_indx,1],axis=1))\n",
      "\n",
      "xtemp = p_xy[tr_indx,0]\n",
      "ytemp = p_xy[tr_indx,1]\n",
      "\n",
      "fig, ax1 = plt.subplots()\n",
      "\n",
      "for kk in range(len(xm)):\n",
      "    cov = np.cov(xtemp[kk,:],ytemp[kk,:])\n",
      "    vals, vecs = eigsorted(cov)\n",
      "    \n",
      "    theta = np.degrees(np.arctan2(*vecs[:,0][::-1]))\n",
      "    w, h = 2 * nstd * np.sqrt(vals)\n",
      "    ell = Ellipse(xy=(xm[kk], ym[kk]),width=w, height=h,angle=theta, color='black')\n",
      "    ell.set_facecolor('none')\n",
      "    ax1.add_artist(ell)\n",
      "\n",
      "    \n",
      "plt.scatter(xm, ym)\n",
      "plt.plot(pxx,pyy,'g.')\n",
      "plt.show()"
     ],
     "language": "python",
     "metadata": {},
     "outputs": [],
     "prompt_number": 7
    }
   ],
   "metadata": {}
  }
 ]
}