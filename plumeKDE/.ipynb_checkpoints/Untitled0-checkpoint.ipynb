{
 "metadata": {
  "name": "",
  "signature": "sha256:ce279aa962a9bc7030f35eafe443c75888bbd2aee579c8dd9b215e96af274232"
 },
 "nbformat": 3,
 "nbformat_minor": 0,
 "worksheets": []
}